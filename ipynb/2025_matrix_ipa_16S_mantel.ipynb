{
 "cells": [
  {
   "cell_type": "markdown",
   "id": "6a146d07-774c-483b-af1a-213620595c65",
   "metadata": {},
   "source": [
    "# Streamlined Extraction of Nucleic Acids and Metabolites from Low- and High-Biomass Samples Using Isopropanol and Matrix Tubes"
   ]
  },
  {
   "cell_type": "markdown",
   "id": "fe06b490-df87-4efb-a748-389fad56d122",
   "metadata": {},
   "source": [
    "## 16S Mantel tests"
   ]
  },
  {
   "cell_type": "markdown",
   "id": "32178386-596a-4db5-b35b-9f01f743bc88",
   "metadata": {},
   "source": [
    "## Set up notebook environment\n",
    "### Note: This notebook should be run in an environment with QIIME2 and the package gemelli installed. A folder called 'assets' is also needed, which should contain the assets provided in the same repo as this code.\n"
   ]
  },
  {
   "cell_type": "code",
   "execution_count": 20,
   "id": "f86c6399-cebd-45ca-92a2-7ce7fd2d0c7c",
   "metadata": {},
   "outputs": [],
   "source": [
    "import os\n",
    "import biom\n",
    "import warnings\n",
    "import pickle\n",
    "import numpy as np\n",
    "import pandas as pd\n",
    "import qiime2 as q2\n",
    "from biom import Table\n",
    "from skbio import OrdinationResults\n",
    "from skbio.stats import subsample_counts\n",
    "from skbio.stats.distance import permanova, anosim, mantel\n",
    "from skbio.stats.distance import DistanceMatrix\n",
    "from qiime2.plugins.gemelli.actions import rpca\n",
    "from qiime2.plugins.gemelli.actions import phylogenetic_rpca_with_taxonomy\n",
    "from qiime2.plugins.feature_table.actions import rarefy\n",
    "from qiime2.plugins.diversity.actions import beta_group_significance\n",
    "from qiime2.plugins.emperor.actions import biplot, plot\n",
    "from qiime2.plugins.diversity.actions import (beta,\n",
    "                                              beta_phylogenetic,\n",
    "                                              pcoa)\n",
    "from qiime2.plugins import demux, deblur, quality_filter, \\\n",
    "                           metadata, feature_table, alignment, \\\n",
    "                           phylogeny, diversity, emperor, feature_classifier, \\\n",
    "                           taxa, composition\n",
    "\n",
    "from assets.step_wise_anova import run_stepwise_anova\n",
    "from qiime2.plugins.fragment_insertion.actions import filter_features\n",
    "warnings.filterwarnings(\"ignore\", category=DeprecationWarning)\n",
    "\n",
    "# helper functions\n",
    "from assets.util_updated_again import (mantel_matched, simulate_depth,\n",
    "                        all_dists, all_dists_no_tree, nested_permanova)\n",
    "\n",
    "# plotting\n",
    "import matplotlib\n",
    "import seaborn as sns\n",
    "import matplotlib.pyplot as plt\n",
    "warnings.filterwarnings('ignore')\n",
    "\n",
    "plt.style.use('ggplot')\n",
    "%matplotlib inline\n"
   ]
  },
  {
   "cell_type": "markdown",
   "id": "0f560720-cef1-433c-ad37-36e244d71897",
   "metadata": {},
   "source": [
    "# Subset files and make paired files"
   ]
  },
  {
   "cell_type": "code",
   "execution_count": 5,
   "id": "512a383f-0038-4a95-83e7-a1dc31bc8d04",
   "metadata": {},
   "outputs": [],
   "source": [
    "# Read in sample metadata\n",
    "md = pd.read_csv('/matrix/metadata_samples/metadata_samples_qiita_20250205.txt',\n",
    "                sep = '\\t')\n"
   ]
  },
  {
   "cell_type": "code",
   "execution_count": 7,
   "id": "7dc6dfb1-2c95-4773-ab8a-243a7a1d79a0",
   "metadata": {},
   "outputs": [],
   "source": [
    "# Subset metadata files to make files for each extraction protocol and storage solution\n",
    "md_plate = md[md['extraction_protocol'] == 'MagMax']\n",
    "md_matrix = md[md['extraction_protocol'] == 'Matrix']\n",
    "md_etoh = md[md['storage_solution'] == 'etoh']\n",
    "md_isop = md[md['storage_solution'] == 'isopropanol']\n"
   ]
  },
  {
   "cell_type": "code",
   "execution_count": 8,
   "id": "f8b6aa63-049e-4c37-8276-0c4f4ff6638c",
   "metadata": {},
   "outputs": [],
   "source": [
    "# Merge kit-specific files to make paired files for comparison\n",
    "md_compare_protocols = pd.concat([md_plate, md_matrix])\n",
    "md_compare_storage = pd.concat([md_etoh, md_isop])\n"
   ]
  },
  {
   "cell_type": "code",
   "execution_count": 10,
   "id": "9d6c0c0c-d99c-48ee-9d6c-03872646e713",
   "metadata": {},
   "outputs": [],
   "source": [
    "# Export paired files\n",
    "md_compare_protocols.to_csv('/matrix/data/16S/00_mantel/metadata_samples_mantel_protocols.txt',\n",
    "                           sep = '\\t',\n",
    "                           index = False)\n",
    "\n",
    "md_compare_storage.to_csv('/matrix/data/16S/00_mantel/metadata_samples_mantel_storage.txt',\n",
    "                           sep = '\\t',\n",
    "                           index = False)\n"
   ]
  },
  {
   "cell_type": "markdown",
   "id": "8a4bb751-3cd6-4db0-8e90-9188f9ddee9e",
   "metadata": {},
   "source": [
    "# Mantel tests (extraction_protocol) Matrix vs. MagMax"
   ]
  },
  {
   "cell_type": "code",
   "execution_count": 25,
   "id": "4548cb98-0357-40d3-8d37-5c698fe38907",
   "metadata": {},
   "outputs": [],
   "source": [
    "# Import data\n",
    "md_compare_protocols = q2.Metadata.load('/matrix/data/16S/00_mantel/metadata_samples_mantel_protocols.txt')\n",
    "md_compare_storage = q2.Metadata.load('/matrix/data/16S/00_mantel/metadata_samples_mantel_storage.txt')\n",
    "\n",
    "table_16S_hbm = q2.Artifact.load('/matrix/data/16S/matrix_16s_deblur_gg2_biom_silva_noMit_noChl_noUnassigned_noEuk_noDomain_noControls_noSpike_hbm_noSingletons.qza')\n",
    "table_16S_lbm = q2.Artifact.load('/matrix/data/16S/matrix_16s_deblur_gg2_biom_silva_noMit_noChl_noUnassigned_noEuk_noDomain_noControls_noSpike_lbm_noSingletons.qza')\n",
    "\n",
    "tree_16S = q2.Artifact.load('/databases/gg2/2024.09/2024.09.phylogeny.asv.nwk.qza')\n",
    "taxonomy_16S = q2.Metadata.load('/matrix/data/16S/matrix_16s_deblur_gg2_seqs_taxonomy.tsv')\n"
   ]
  },
  {
   "cell_type": "code",
   "execution_count": 13,
   "id": "47bcaa11-083f-4633-b076-dfe81918af16",
   "metadata": {},
   "outputs": [
    {
     "data": {
      "text/plain": [
       "1928 x 143 <class 'biom.table.Table'> with 13577 nonzero entries (4% dense)"
      ]
     },
     "execution_count": 13,
     "metadata": {},
     "output_type": "execute_result"
    }
   ],
   "source": [
    "# Matrix vs. Plate\n",
    "## LBM\n",
    "### Filter table\n",
    "table_16S_lbm_biom = table_16S_lbm.view(Table)\n",
    "md_compare_protocols_lbm = md_compare_protocols.to_dataframe()\n",
    "shared_ = list(set(table_16S_lbm_biom.ids()) & set(md_compare_protocols_lbm.index))\n",
    "md_compare_protocols_lbm = md_compare_protocols_lbm.reindex(shared_)\n",
    "table_16S_lbm_biom_protocols = table_16S_lbm_biom.filter(shared_)\n",
    "keep_ = table_16S_lbm_biom_protocols.ids('observation')[table_16S_lbm_biom_protocols.sum('observation') > 0]\n",
    "table_16S_lbm_biom_protocols.filter(keep_, axis='observation')\n",
    "\n",
    "## Import filtered table and re-indexed metadata file\n",
    "table_16S_lbm_protocols = q2.Artifact.import_data('FeatureTable[Frequency]', table_16S_lbm_biom_protocols)\n",
    "md_compare_protocols_lbm_q2 = q2.Metadata(md_compare_protocols_lbm)\n",
    "\n",
    "## Generate distance matrices using 'all_dists' utils\n",
    "rare_depth_16S_lbm = 277\n",
    "dists_res_16S_lbm = all_dists(table_16S_lbm_protocols, rare_depth_16S_lbm, tree_16S, taxonomy_16S)\n",
    "\n",
    "## Make a unique ID\n",
    "md_lbm_protocols_dist_q2 = md_compare_protocols_lbm_q2.to_dataframe().copy()\n",
    "#md_lbm_protocols_dist_q2['sample_name_mantel_protocol'] = ['.'.join(rn_.split('.')[:-2])\n",
    "#                               for rn_ in md_lbm_protocols_dist_q2.index]\n",
    "grouping = 'extraction_protocol'\n",
    "ids = 'sample_name_mantel_protocol'\n",
    "\n",
    "## Run Mantel test for each distance matrix\n",
    "mantel_res_16S_lbm = {}\n",
    "for metric_, dist_mantel in dists_res_16S_lbm.items():\n",
    "    # subset mf for dist (rare)\n",
    "    dist_mantel = dist_mantel.distance_matrix.view(DistanceMatrix)\n",
    "    md_lbm_protocols_dist_q2_sub = md_lbm_protocols_dist_q2.reindex(dist_mantel.ids)\n",
    "    # corr, p, n\n",
    "    mantel_res_16S_lbm[metric_] = mantel_matched(dist_mantel,\n",
    "                                         md_lbm_protocols_dist_q2_sub,\n",
    "                                         grouping,\n",
    "                                         ids)\n",
    "\n",
    "## Compile \n",
    "mantel_res_16S_lbm = pd.DataFrame(mantel_res_16S_lbm,\n",
    "                          ['corr', 'p', 'n'])\n",
    "mantel_res_16S_lbm.to_csv('/matrix/results/mantel/mantel_16s_lbm_protocols.txt', sep='\\t')\n",
    "mantel_res_16S_lbm\n"
   ]
  },
  {
   "cell_type": "code",
   "execution_count": 14,
   "id": "342862b5-8a75-4810-9f33-ce1b0d496db4",
   "metadata": {},
   "outputs": [],
   "source": [
    "# Matrix vs. Plate\n",
    "## HBM\n",
    "### Filter table\n",
    "table_16S_hbm_biom = table_16S_hbm.view(Table)\n",
    "md_compare_protocols_hbm = md_compare_protocols.to_dataframe()\n",
    "shared_ = list(set(table_16S_hbm_biom.ids()) & set(md_compare_protocols_hbm.index))\n",
    "md_compare_protocols_hbm = md_compare_protocols_hbm.reindex(shared_)\n",
    "table_16S_hbm_biom_protocols = table_16S_hbm_biom.filter(shared_)\n",
    "keep_ = table_16S_hbm_biom_protocols.ids('observation')[table_16S_hbm_biom_protocols.sum('observation') > 0]\n",
    "table_16S_hbm_biom_protocols.filter(keep_, axis='observation')\n",
    "\n",
    "## Import filtered table and re-indexed metadata file\n",
    "table_16S_hbm_protocols = q2.Artifact.import_data('FeatureTable[Frequency]', table_16S_hbm_biom_protocols)\n",
    "md_compare_protocols_hbm_q2 = q2.Metadata(md_compare_protocols_hbm)\n",
    "\n",
    "## Generate distance matrices using 'all_dists' utils\n",
    "rare_depth_16S_hbm = 20636\n",
    "dists_res_16S_hbm = all_dists(table_16S_hbm_protocols, rare_depth_16S_hbm, tree_16S, taxonomy_16S)\n",
    "\n",
    "## Make a unique ID\n",
    "md_hbm_protocols_dist_q2 = md_compare_protocols_hbm_q2.to_dataframe().copy()\n",
    "#md_hbm_protocols_dist_q2['sample_name_mantel_protocol'] = ['.'.join(rn_.split('.')[:-2])\n",
    "#                               for rn_ in md_hbm_protocols_dist_q2.index]\n",
    "grouping = 'extraction_protocol'\n",
    "ids = 'sample_name_mantel_protocol'\n",
    "\n",
    "## Run Mantel test for each distance matrix\n",
    "mantel_res_16S_hbm = {}\n",
    "for metric_, dist_mantel in dists_res_16S_hbm.items():\n",
    "    # subset mf for dist (rare)\n",
    "    dist_mantel = dist_mantel.distance_matrix.view(DistanceMatrix)\n",
    "    md_hbm_protocols_dist_q2_sub = md_hbm_protocols_dist_q2.reindex(dist_mantel.ids)\n",
    "    # corr, p, n\n",
    "    mantel_res_16S_hbm[metric_] = mantel_matched(dist_mantel,\n",
    "                                         md_hbm_protocols_dist_q2_sub,\n",
    "                                         grouping,\n",
    "                                         ids)\n",
    "\n",
    "## Compile \n",
    "mantel_res_16S_hbm = pd.DataFrame(mantel_res_16S_hbm,\n",
    "                          ['corr', 'p', 'n'])\n",
    "mantel_res_16S_hbm.to_csv('/matrix/results/mantel/mantel_16s_hbm_protocols.txt', sep='\\t')\n",
    "mantel_res_16S_hbm\n"
   ]
  },
  {
   "cell_type": "code",
   "execution_count": null,
   "id": "f4a00f03-44ff-4746-93ed-467a722b1ebc",
   "metadata": {},
   "outputs": [],
   "source": [
    "# EtOH vs. Isopropanol\n",
    "## LBM\n",
    "### Filter table\n",
    "table_16S_lbm_biom = table_16S_lbm.view(Table)\n",
    "md_compare_storage_lbm = md_compare_storage.to_dataframe()\n",
    "shared_ = list(set(table_16S_lbm_biom.ids()) & set(md_compare_storage_lbm.index))\n",
    "md_compare_storage_lbm = md_compare_storage_lbm.reindex(shared_)\n",
    "table_16S_lbm_biom_storage = table_16S_lbm_biom.filter(shared_)\n",
    "keep_ = table_16S_lbm_biom_storage.ids('observation')[table_16S_lbm_biom_storage.sum('observation') > 0]\n",
    "table_16S_lbm_biom_storage.filter(keep_, axis='observation')\n",
    "\n",
    "## Import filtered table and re-indexed metadata file\n",
    "table_16S_lbm_storage = q2.Artifact.import_data('FeatureTable[Frequency]', table_16S_lbm_biom_storage)\n",
    "md_compare_storage_lbm_q2 = q2.Metadata(md_compare_storage_lbm)\n",
    "\n",
    "## Generate distance matrices using 'all_dists' utils\n",
    "rare_depth_16S_lbm = 277\n",
    "dists_res_16S_lbm = all_dists(table_16S_lbm_storage, rare_depth_16S_lbm, tree_16S, taxonomy_16S)\n",
    "\n",
    "## Make a unique ID\n",
    "md_lbm_storage_dist_q2 = md_compare_storage_lbm_q2.to_dataframe().copy()\n",
    "#md_lbm_storage_dist_q2['sample_name_mantel_protocol'] = ['.'.join(rn_.split('.')[:-2])\n",
    "#                               for rn_ in md_lbm_storage_dist_q2.index]\n",
    "grouping = 'storage_solution'\n",
    "ids = 'sample_name_mantel_solution'\n",
    "\n",
    "## Run Mantel test for each distance matrix\n",
    "mantel_res_16S_lbm = {}\n",
    "for metric_, dist_mantel in dists_res_16S_lbm.items():\n",
    "    # subset mf for dist (rare)\n",
    "    dist_mantel = dist_mantel.distance_matrix.view(DistanceMatrix)\n",
    "    md_lbm_storage_dist_q2_sub = md_lbm_storage_dist_q2.reindex(dist_mantel.ids)\n",
    "    # corr, p, n\n",
    "    mantel_res_16S_lbm[metric_] = mantel_matched(dist_mantel,\n",
    "                                         md_lbm_storage_dist_q2_sub,\n",
    "                                         grouping,\n",
    "                                         ids)\n",
    "\n",
    "## Compile \n",
    "mantel_res_16S_lbm = pd.DataFrame(mantel_res_16S_lbm,\n",
    "                          ['corr', 'p', 'n'])\n",
    "mantel_res_16S_lbm.to_csv('/matrix/results/mantel/mantel_16s_lbm_storage.txt', sep='\\t')\n",
    "mantel_res_16S_lbm\n"
   ]
  },
  {
   "cell_type": "code",
   "execution_count": null,
   "id": "541e92fb-85de-4050-86bb-3dac9588527c",
   "metadata": {},
   "outputs": [],
   "source": [
    "# EtOH vs. Isopropanol\n",
    "## HBM\n",
    "### Filter table\n",
    "table_16S_hbm_biom = table_16S_hbm.view(Table)\n",
    "md_compare_storage_hbm = md_compare_storage.to_dataframe()\n",
    "shared_ = list(set(table_16S_hbm_biom.ids()) & set(md_compare_storage_hbm.index))\n",
    "md_compare_storage_hbm = md_compare_storage_hbm.reindex(shared_)\n",
    "table_16S_hbm_biom_storage = table_16S_hbm_biom.filter(shared_)\n",
    "keep_ = table_16S_hbm_biom_storage.ids('observation')[table_16S_hbm_biom_storage.sum('observation') > 0]\n",
    "table_16S_hbm_biom_storage.filter(keep_, axis='observation')\n",
    "\n",
    "## Import filtered table and re-indexed metadata file\n",
    "table_16S_hbm_storage = q2.Artifact.import_data('FeatureTable[Frequency]', table_16S_hbm_biom_storage)\n",
    "md_compare_storage_hbm_q2 = q2.Metadata(md_compare_storage_hbm)\n",
    "\n",
    "## Generate distance matrices using 'all_dists' utils\n",
    "rare_depth_16S_hbm = 20636\n",
    "dists_res_16S_hbm = all_dists(table_16S_hbm_storage, rare_depth_16S_hbm, tree_16S, taxonomy_16S)\n",
    "\n",
    "## Make a unique ID\n",
    "md_hbm_storage_dist_q2 = md_compare_storage_hbm_q2.to_dataframe().copy()\n",
    "#md_hbm_storage_dist_q2['sample_name_mantel_protocol'] = ['.'.join(rn_.split('.')[:-2])\n",
    "#                               for rn_ in md_hbm_storage_dist_q2.index]\n",
    "grouping = 'storage_solution'\n",
    "ids = 'sample_name_mantel_solution'\n",
    "\n",
    "## Run Mantel test for each distance matrix\n",
    "mantel_res_16S_hbm = {}\n",
    "for metric_, dist_mantel in dists_res_16S_hbm.items():\n",
    "    # subset mf for dist (rare)\n",
    "    dist_mantel = dist_mantel.distance_matrix.view(DistanceMatrix)\n",
    "    md_hbm_storage_dist_q2_sub = md_hbm_storage_dist_q2.reindex(dist_mantel.ids)\n",
    "    # corr, p, n\n",
    "    mantel_res_16S_hbm[metric_] = mantel_matched(dist_mantel,\n",
    "                                         md_hbm_storage_dist_q2_sub,\n",
    "                                         grouping,\n",
    "                                         ids)\n",
    "\n",
    "## Compile \n",
    "mantel_res_16S_hbm = pd.DataFrame(mantel_res_16S_hbm,\n",
    "                          ['corr', 'p', 'n'])\n",
    "mantel_res_16S_hbm.to_csv('/matrix/results/mantel/mantel_16s_hbm_storage.txt', sep='\\t')\n",
    "mantel_res_16S_hbm\n"
   ]
  }
 ],
 "metadata": {
  "kernelspec": {
   "display_name": "Python (qiime2-amplicon-2024.10)",
   "language": "python",
   "name": "qiime2-amplicon-2024.10"
  },
  "language_info": {
   "codemirror_mode": {
    "name": "ipython",
    "version": 3
   },
   "file_extension": ".py",
   "mimetype": "text/x-python",
   "name": "python",
   "nbconvert_exporter": "python",
   "pygments_lexer": "ipython3",
   "version": "3.10.14"
  }
 },
 "nbformat": 4,
 "nbformat_minor": 5
}
