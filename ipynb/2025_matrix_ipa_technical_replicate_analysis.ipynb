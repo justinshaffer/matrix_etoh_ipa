{
 "cells": [
  {
   "cell_type": "markdown",
   "metadata": {},
   "source": [
    "# Streamlined Extraction of Nucleic Acids and Metabolites from Low- and High-Biomass Samples Using Isopropanol and Matrix Tubes"
   ]
  },
  {
   "cell_type": "markdown",
   "metadata": {},
   "source": [
    "## Technical replicate analysis"
   ]
  },
  {
   "cell_type": "markdown",
   "metadata": {},
   "source": [
    "## Set up notebook environment\n",
    "### Note: This notebook should be run in an environment with QIIME2 and the package gemelli installed. A folder called 'assets' is also needed, which should contain the assets provided in the same repo as this code."
   ]
  },
  {
   "cell_type": "code",
   "execution_count": 4,
   "metadata": {},
   "outputs": [],
   "source": [
    "import pandas as pd\n",
    "import qiime2 as q2\n",
    "import numpy as np\n",
    "import plotnine as pn\n",
    "from biom import Table, load_table\n",
    "from qiime2.plugins.gemelli.actions import rpca\n",
    "from qiime2.plugins.gemelli.actions import phylogenetic_rpca_with_taxonomy\n",
    "from qiime2.plugins.diversity.actions import beta_phylogenetic\n",
    "from qiime2.plugins.diversity.actions import beta\n",
    "from qiime2.plugins.diversity.actions import alpha\n",
    "from qiime2.plugins.feature_table.actions import rarefy\n",
    "from skbio import DistanceMatrix\n",
    "\n",
    "s=\"sample\"\n",
    "o=\"observation\"\n",
    "\n",
    "%matplotlib inline\n"
   ]
  },
  {
   "cell_type": "markdown",
   "metadata": {},
   "source": [
    "# 16S high biomass"
   ]
  },
  {
   "cell_type": "markdown",
   "metadata": {},
   "source": [
    "## Import data"
   ]
  },
  {
   "cell_type": "code",
   "execution_count": 7,
   "metadata": {},
   "outputs": [],
   "source": [
    "# Data\n",
    "qza = q2.Artifact.load(\"/matrix/data/16S/matrix_16s_deblur_gg2_biom_silva_noMit_noChl_noUnassigned_noEuk_noDomain_noControls_noSpike_hbm_noSingletons.qza\")\n",
    "bt = qza.view(Table)\n",
    "\n",
    "# Rarefied data\n",
    "qza_rare = q2.Artifact.load(\"/matrix/data/16S/matrix_16s_deblur_gg2_biom_silva_noMit_noChl_noUnassigned_noEuk_noDomain_noControls_noSpike_hbm_noSingletons_rar20636.qza\")\n",
    "bt_rare = qza_rare.view(Table)\n",
    "\n",
    "# Metadata\n",
    "md = pd.read_csv(\"/matrix/metadata_samples/metadata_samples_qiita_20250311c.txt\",sep='\\t', index_col=0)\n",
    "md.index.name=\"sample_name\"\n",
    "\n",
    "# Tree\n",
    "tree_q2 = q2.Artifact.load(\"/databases/gg2/2024.09/2024.09.phylogeny.asv.nwk.qza\")\n",
    "\n",
    "# Taxonomy\n",
    "taxonomy_q2 = q2.Metadata.load('/matrix/data/16S/matrix_16s_deblur_gg2_seqs_taxonomy.tsv')\n",
    "\n",
    "# Filter table to include samples in metadata and re-index metadata\n",
    "bt_samples = set(bt.ids(s))\n",
    "md = md[md.index.isin(bt_samples)]\n"
   ]
  },
  {
   "cell_type": "markdown",
   "metadata": {},
   "source": [
    "## Calculate distances\n"
   ]
  },
  {
   "cell_type": "code",
   "execution_count": null,
   "metadata": {},
   "outputs": [],
   "source": [
    "rarefaction_depth = 20636\n",
    "\n",
    "dms = {}\n",
    "\n",
    "# Jaccard\n",
    "dms[\"jaccard\"] = beta(table=qza_rare, metric=\"jaccard\").distance_matrix.view(DistanceMatrix)\n",
    "\n",
    "# weighted unifrac\n",
    "dms[\"weighted_unifrac\"] = beta_phylogenetic(table=qza_rare, phylogeny=tree_q2, metric=\"weighted_unifrac\").distance_matrix.view(DistanceMatrix)\n",
    "\n",
    "# unweighted unifrac\n",
    "dms[\"unweighted_unifrac\"] = beta_phylogenetic(table=qza_rare, phylogeny=tree_q2, metric=\"unweighted_unifrac\").distance_matrix.view(DistanceMatrix)\n",
    "\n",
    "# RPCA\n",
    "bplt_rpca, dm_rpca = rpca(table=qza,\n",
    "               n_components=3, \n",
    "               min_sample_count=rarefaction_depth, \n",
    "               min_feature_frequency=0)\n",
    "dms[\"RPCA\"] = dm_rpca.view(DistanceMatrix)\n",
    "\n",
    "# Phylo-RPCA\n",
    "bplt_phylo_rpca, dm_phylo_rpca, node_tree, node_counts, tree_to_taxonomy = phylogenetic_rpca_with_taxonomy(table=qza, \n",
    "                                                    phylogeny=tree_q2, \n",
    "                                                    taxonomy=taxonomy_q2, \n",
    "                                                    min_feature_count=0,\n",
    "                                                    min_feature_frequency=0,\n",
    "                                                    min_sample_count=rarefaction_depth)\n",
    "dms[\"phylo_RPCA\"] = dm_phylo_rpca.view(DistanceMatrix)\n",
    "\n"
   ]
  },
  {
   "cell_type": "markdown",
   "metadata": {},
   "source": [
    "## Generate dataframes for plotting\n"
   ]
  },
  {
   "cell_type": "code",
   "execution_count": null,
   "metadata": {},
   "outputs": [],
   "source": [
    "md_variable = md.loc[:,[\"sample_type3\",\"unique_sample_id_tech_rep\"]]\n",
    "out_dfs = {}\n",
    "for metric,dm in dms.items():\n",
    "    df = dm.to_data_frame()\n",
    "    df=df.reset_index().melt(id_vars=\"index\")\n",
    "    df.columns=[\"sample1\",\"sample2\",\"value\"]\n",
    "    df = df.merge(md_variable, right_index=True, left_on=\"sample1\")\n",
    "    df = df.rename(columns={\"sample_type3\":\"sample1_type\",\"unique_sample_id_tech_rep\":\"sample1_unique_sample_id\"})\n",
    "    df = df.merge(md_variable, right_index=True, left_on=\"sample2\")\n",
    "    df = df.rename(columns={\"sample_type3\":\"sample2_type\",\"unique_sample_id_tech_rep\":\"sample2_unique_sample_id\"})\n",
    "    df = df.merge(md.loc[:,[\"sample_type\",\"sample_type1\",\"sample_type2\",\"sample_type3\",\"biomass\",\"extraction_protocol_storage_solution\",\"host_subject_id\"]], right_index=True, left_on=\"sample1\")\n",
    "    df = df.query('sample1_type==sample2_type & sample1_unique_sample_id==sample2_unique_sample_id & sample1!=sample2')\n",
    "    out_dfs[metric] = df\n",
    "    "
   ]
  },
  {
   "cell_type": "markdown",
   "metadata": {},
   "source": [
    "## Export data frames\n"
   ]
  },
  {
   "cell_type": "code",
   "execution_count": null,
   "metadata": {},
   "outputs": [],
   "source": [
    "metric=\"jaccard\"\n",
    "df = out_dfs[metric]\n",
    "df = df.drop_duplicates(\"value\")\n",
    "df.to_csv(\"/matrix/results/technical_replicate_distances/matrix_tech_rep_16S_hbm_jaccard.txt\", sep = '\\t', index = False)\n",
    "\n",
    "metric=\"RPCA\"\n",
    "df = out_dfs[metric]\n",
    "df = df.drop_duplicates(\"value\")\n",
    "df.to_csv(\"/matrix/results/technical_replicate_distances/matrix_tech_rep_16S_hbm_rpca.txt\", sep = '\\t', index = False)\n",
    "\n",
    "metric=\"unweighted_unifrac\"\n",
    "df = out_dfs[metric]\n",
    "df = df.drop_duplicates(\"value\")\n",
    "df.to_csv(\"/matrix/results/technical_replicate_distances/matrix_tech_rep_16S_hbm_unifrac.txt\", sep = '\\t', index = False)\n",
    "\n",
    "metric=\"weighted_unifrac\"\n",
    "df = out_dfs[metric]\n",
    "df = df.drop_duplicates(\"value\")\n",
    "df.to_csv(\"/matrix/results/technical_replicate_distances/matrix_tech_rep_16S_hbm_weighted_unifrac.txt\", sep = '\\t', index = False)\n",
    "\n",
    "metric=\"phylo_RPCA\"\n",
    "df = out_dfs[metric]\n",
    "df = df.drop_duplicates(\"value\")\n",
    "df.to_csv(\"/matrix/results/technical_replicate_distances/matrix_tech_rep_16S_hbm_phylo_rpca.txt\", sep = '\\t', index = False)\n"
   ]
  },
  {
   "cell_type": "markdown",
   "metadata": {},
   "source": [
    "# 16S low biomass"
   ]
  },
  {
   "cell_type": "markdown",
   "metadata": {},
   "source": [
    "## Import data"
   ]
  },
  {
   "cell_type": "code",
   "execution_count": 7,
   "metadata": {},
   "outputs": [],
   "source": [
    "# Data\n",
    "qza = q2.Artifact.load(\"/matrix/data/16S/matrix_16s_deblur_gg2_biom_silva_noMit_noChl_noUnassigned_noEuk_noDomain_noControls_noSpike_lbm_noSingletons.qza\")\n",
    "bt = qza.view(Table)\n",
    "\n",
    "# Rarefied data\n",
    "qza_rare = q2.Artifact.load(\"/matrix/data/16S/matrix_16s_deblur_gg2_biom_silva_noMit_noChl_noUnassigned_noEuk_noDomain_noControls_noSpike_lbm_noSingletons_rar277.qza\")\n",
    "bt_rare = qza_rare.view(Table)\n",
    "\n",
    "# Metadata\n",
    "md = pd.read_csv(\"/matrix/metadata_samples/metadata_samples_qiita_20250319e.txt\",sep='\\t', index_col=0)\n",
    "md.index.name=\"sample_name\"\n",
    "\n",
    "# Tree\n",
    "tree_q2 = q2.Artifact.load(\"/databases/gg2/2024.09/2024.09.phylogeny.asv.nwk.qza\")\n",
    "\n",
    "# Taxonomy\n",
    "taxonomy_q2 = q2.Metadata.load('/matrix/data/16S/matrix_16s_deblur_gg2_seqs_taxonomy.tsv')\n",
    "\n",
    "# Filter table to include samples in metadata and re-index metadata\n",
    "bt_samples = set(bt.ids(s))\n",
    "md = md[md.index.isin(bt_samples)]\n"
   ]
  },
  {
   "cell_type": "markdown",
   "metadata": {},
   "source": [
    "## Calculate distances\n"
   ]
  },
  {
   "cell_type": "code",
   "execution_count": null,
   "metadata": {},
   "outputs": [],
   "source": [
    "rarefaction_depth = 277\n",
    "\n",
    "dms = {}\n",
    "\n",
    "# Jaccard\n",
    "dms[\"jaccard\"] = beta(table=qza_rare, metric=\"jaccard\").distance_matrix.view(DistanceMatrix)\n",
    "\n",
    "# weighted unifrac\n",
    "dms[\"weighted_unifrac\"] = beta_phylogenetic(table=qza_rare, phylogeny=tree_q2, metric=\"weighted_unifrac\").distance_matrix.view(DistanceMatrix)\n",
    "\n",
    "# unweighted unifrac\n",
    "dms[\"unweighted_unifrac\"] = beta_phylogenetic(table=qza_rare, phylogeny=tree_q2, metric=\"unweighted_unifrac\").distance_matrix.view(DistanceMatrix)\n",
    "\n",
    "# RPCA\n",
    "bplt_rpca, dm_rpca = rpca(table=qza,\n",
    "               n_components=3, \n",
    "               min_sample_count=rarefaction_depth, \n",
    "               min_feature_frequency=0)\n",
    "dms[\"RPCA\"] = dm_rpca.view(DistanceMatrix)\n",
    "\n",
    "# Phylo-RPCA\n",
    "bplt_phylo_rpca, dm_phylo_rpca, node_tree, node_counts, tree_to_taxonomy = phylogenetic_rpca_with_taxonomy(table=qza, \n",
    "                                                    phylogeny=tree_q2, \n",
    "                                                    taxonomy=taxonomy_q2, \n",
    "                                                    min_feature_count=0,\n",
    "                                                    min_feature_frequency=0,\n",
    "                                                    min_sample_count=rarefaction_depth)\n",
    "dms[\"phylo_RPCA\"] = dm_phylo_rpca.view(DistanceMatrix)\n",
    "\n"
   ]
  },
  {
   "cell_type": "markdown",
   "metadata": {},
   "source": [
    "## Generate dataframes for plotting\n"
   ]
  },
  {
   "cell_type": "code",
   "execution_count": null,
   "metadata": {},
   "outputs": [],
   "source": [
    "md_variable = md.loc[:,[\"sample_type3\",\"unique_sample_id_tech_rep\"]]\n",
    "out_dfs = {}\n",
    "for metric,dm in dms.items():\n",
    "    df = dm.to_data_frame()\n",
    "    df=df.reset_index().melt(id_vars=\"index\")\n",
    "    df.columns=[\"sample1\",\"sample2\",\"value\"]\n",
    "    df = df.merge(md_variable, right_index=True, left_on=\"sample1\")\n",
    "    df = df.rename(columns={\"sample_type3\":\"sample1_type\",\"unique_sample_id_tech_rep\":\"sample1_unique_sample_id\"})\n",
    "    df = df.merge(md_variable, right_index=True, left_on=\"sample2\")\n",
    "    df = df.rename(columns={\"sample_type3\":\"sample2_type\",\"unique_sample_id_tech_rep\":\"sample2_unique_sample_id\"})\n",
    "    df = df.merge(md.loc[:,[\"sample_type\",\"sample_type1\",\"sample_type2\",\"sample_type3\",\"biomass\",\"extraction_protocol_storage_solution\",\"host_subject_id\"]], right_index=True, left_on=\"sample1\")\n",
    "    df = df.query('sample1_type==sample2_type & sample1_unique_sample_id==sample2_unique_sample_id & sample1!=sample2')\n",
    "    out_dfs[metric] = df\n",
    "    "
   ]
  },
  {
   "cell_type": "markdown",
   "metadata": {},
   "source": [
    "## Export data frames\n"
   ]
  },
  {
   "cell_type": "code",
   "execution_count": null,
   "metadata": {},
   "outputs": [],
   "source": [
    "metric=\"jaccard\"\n",
    "df = out_dfs[metric]\n",
    "df = df.drop_duplicates(\"value\")\n",
    "df.to_csv(\"/matrix/results/technical_replicate_distances/matrix_tech_rep_16S_lbm_jaccard.txt\", sep = '\\t', index = False)\n",
    "\n",
    "metric=\"RPCA\"\n",
    "df = out_dfs[metric]\n",
    "df = df.drop_duplicates(\"value\")\n",
    "df.to_csv(\"/matrix/results/technical_replicate_distances/matrix_tech_rep_16S_lbm_rpca.txt\", sep = '\\t', index = False)\n",
    "\n",
    "metric=\"unweighted_unifrac\"\n",
    "df = out_dfs[metric]\n",
    "df = df.drop_duplicates(\"value\")\n",
    "df.to_csv(\"/matrix/results/technical_replicate_distances/matrix_tech_rep_16S_lbm_unifrac.txt\", sep = '\\t', index = False)\n",
    "\n",
    "metric=\"weighted_unifrac\"\n",
    "df = out_dfs[metric]\n",
    "df = df.drop_duplicates(\"value\")\n",
    "df.to_csv(\"/matrix/results/technical_replicate_distances/matrix_tech_rep_16S_lbm_weighted_unifrac.txt\", sep = '\\t', index = False)\n",
    "\n",
    "metric=\"phylo_RPCA\"\n",
    "df = out_dfs[metric]\n",
    "df = df.drop_duplicates(\"value\")\n",
    "df.to_csv(\"/matrix/results/technical_replicate_distances/matrix_tech_rep_16S_lbm_phylo_rpca.txt\", sep = '\\t', index = False)\n"
   ]
  },
  {
   "cell_type": "markdown",
   "metadata": {},
   "source": [
    "# Shotgun high biomass"
   ]
  },
  {
   "cell_type": "markdown",
   "metadata": {},
   "source": [
    "## Import data"
   ]
  },
  {
   "cell_type": "code",
   "execution_count": 7,
   "metadata": {},
   "outputs": [],
   "source": [
    "# Data\n",
    "qza = q2.Artifact.load(\"/matrix/data/shotgun/matrix_shotgun_wolr2pe_biom_hbm_noControls_noSpike_noSingletons.qza\")\n",
    "bt = qza.view(Table)\n",
    "\n",
    "# Rarefied data\n",
    "qza_rare = q2.Artifact.load(\"/matrix/data/shotgun/matrix_shotgun_wolr2pe_biom_hbm_noControls_noSpike_noSingletons_rar1515K.qza\")\n",
    "bt_rare = qza_rare.view(Table)\n",
    "\n",
    "# Metadata\n",
    "md = pd.read_csv(\"/matrix/metadata_samples/metadata_samples_qiita_20250307.txt\",sep='\\t', index_col=0)\n",
    "md.index.name=\"sample_name\"\n",
    "\n",
    "# Tree\n",
    "tree_q2 = q2.Artifact.load(\"/databases/wol/wol_r2/wolr2_phylogeny.qza\")\n",
    "\n",
    "# Taxonomy\n",
    "taxonomy_q2 = q2.Metadata.load('/databases/wol/wol_r2/wolr2_taxonomy.txt')\n",
    "\n",
    "# Filter table to include samples in metadata and re-index metadata\n",
    "bt_samples = set(bt.ids(s))\n",
    "md = md[md.index.isin(bt_samples)]\n"
   ]
  },
  {
   "cell_type": "markdown",
   "metadata": {},
   "source": [
    "## Calculate distances\n"
   ]
  },
  {
   "cell_type": "code",
   "execution_count": null,
   "metadata": {},
   "outputs": [],
   "source": [
    "rarefaction_depth = 1515275\n",
    "\n",
    "dms = {}\n",
    "\n",
    "# Jaccard\n",
    "dms[\"jaccard\"] = beta(table=qza_rare, metric=\"jaccard\").distance_matrix.view(DistanceMatrix)\n",
    "\n",
    "# weighted unifrac\n",
    "dms[\"weighted_unifrac\"] = beta_phylogenetic(table=qza_rare, phylogeny=tree_q2, metric=\"weighted_unifrac\").distance_matrix.view(DistanceMatrix)\n",
    "\n",
    "# unweighted unifrac\n",
    "dms[\"unweighted_unifrac\"] = beta_phylogenetic(table=qza_rare, phylogeny=tree_q2, metric=\"unweighted_unifrac\").distance_matrix.view(DistanceMatrix)\n",
    "\n",
    "# RPCA\n",
    "bplt_rpca, dm_rpca = rpca(table=qza,\n",
    "               n_components=3, \n",
    "               min_sample_count=rarefaction_depth, \n",
    "               min_feature_frequency=0)\n",
    "dms[\"RPCA\"] = dm_rpca.view(DistanceMatrix)\n",
    "\n",
    "# Phylo-RPCA\n",
    "bplt_phylo_rpca, dm_phylo_rpca, node_tree, node_counts, tree_to_taxonomy = phylogenetic_rpca_with_taxonomy(table=qza, \n",
    "                                                    phylogeny=tree_q2, \n",
    "                                                    taxonomy=taxonomy_q2, \n",
    "                                                    min_feature_count=0,\n",
    "                                                    min_feature_frequency=0,\n",
    "                                                    min_sample_count=rarefaction_depth)\n",
    "dms[\"phylo_RPCA\"] = dm_phylo_rpca.view(DistanceMatrix)\n",
    "\n"
   ]
  },
  {
   "cell_type": "markdown",
   "metadata": {},
   "source": [
    "## Generate dataframes for plotting\n"
   ]
  },
  {
   "cell_type": "code",
   "execution_count": null,
   "metadata": {},
   "outputs": [],
   "source": [
    "md_variable = md.loc[:,[\"sample_type3\",\"unique_sample_id\"]]\n",
    "out_dfs = {}\n",
    "for metric,dm in dms.items():\n",
    "    df = dm.to_data_frame()\n",
    "    df=df.reset_index().melt(id_vars=\"index\")\n",
    "    df.columns=[\"sample1\",\"sample2\",\"value\"]\n",
    "    df = df.merge(md_variable, right_index=True, left_on=\"sample1\")\n",
    "    df = df.rename(columns={\"sample_type3\":\"sample1_type\",\"unique_sample_id\":\"sample1_unique_sample_id\"})\n",
    "    df = df.merge(md_variable, right_index=True, left_on=\"sample2\")\n",
    "    df = df.rename(columns={\"sample_type3\":\"sample2_type\",\"unique_sample_id\":\"sample2_unique_sample_id\"})\n",
    "    df = df.merge(md.loc[:,[\"sample_type\",\"sample_type1\",\"sample_type2\",\"sample_type3\",\"biomass\",\"extraction_protocol_storage_solution\",\"host_subject_id\"]], right_index=True, left_on=\"sample1\")\n",
    "    df = df.query('sample1_type==sample2_type & sample1_unique_sample_id==sample2_unique_sample_id & sample1!=sample2')\n",
    "    out_dfs[metric] = df\n",
    "    "
   ]
  },
  {
   "cell_type": "markdown",
   "metadata": {},
   "source": [
    "## Export data frames\n"
   ]
  },
  {
   "cell_type": "code",
   "execution_count": null,
   "metadata": {},
   "outputs": [],
   "source": [
    "metric=\"jaccard\"\n",
    "df = out_dfs[metric]\n",
    "df = df.drop_duplicates(\"value\")\n",
    "df.to_csv(\"/matrix/results/technical_replicate_distances/matrix_tech_rep_shotgun_hbm_jaccard.txt\", sep = '\\t', index = False)\n",
    "\n",
    "metric=\"RPCA\"\n",
    "df = out_dfs[metric]\n",
    "df = df.drop_duplicates(\"value\")\n",
    "df.to_csv(\"/matrix/results/technical_replicate_distances/matrix_tech_rep_shotgun_hbm_rpca.txt\", sep = '\\t', index = False)\n",
    "\n",
    "metric=\"unweighted_unifrac\"\n",
    "df = out_dfs[metric]\n",
    "df = df.drop_duplicates(\"value\")\n",
    "df.to_csv(\"/matrix/results/technical_replicate_distances/matrix_tech_rep_shotgun_hbm_unifrac.txt\", sep = '\\t', index = False)\n",
    "\n",
    "metric=\"weighted_unifrac\"\n",
    "df = out_dfs[metric]\n",
    "df = df.drop_duplicates(\"value\")\n",
    "df.to_csv(\"/matrix/results/technical_replicate_distances/matrix_tech_rep_shotgun_hbm_weighted_unifrac.txt\", sep = '\\t', index = False)\n",
    "\n",
    "metric=\"phylo_RPCA\"\n",
    "df = out_dfs[metric]\n",
    "df = df.drop_duplicates(\"value\")\n",
    "df.to_csv(\"/matrix/results/technical_replicate_distances/matrix_tech_rep_shotgun_hbm_phylo_rpca.txt\", sep = '\\t', index = False)\n"
   ]
  },
  {
   "cell_type": "markdown",
   "metadata": {},
   "source": [
    "# Shotgun low biomass"
   ]
  },
  {
   "cell_type": "markdown",
   "metadata": {},
   "source": [
    "## Import data"
   ]
  },
  {
   "cell_type": "code",
   "execution_count": 7,
   "metadata": {},
   "outputs": [],
   "source": [
    "# Data\n",
    "qza = q2.Artifact.load(\"/matrix/data/shotgun/matrix_shotgun_wolr2pe_biom_lbm_noControls_noSpike_noSingletons.qza\")\n",
    "bt = qza.view(Table)\n",
    "\n",
    "# Rarefied data\n",
    "qza_rare = q2.Artifact.load(\"/matrix/data/shotgun/matrix_shotgun_wolr2pe_biom_lbm_noControls_noSpike_noSingletons_rar55K.qza\")\n",
    "bt_rare = qza_rare.view(Table)\n",
    "\n",
    "# Metadata\n",
    "md = pd.read_csv(\"/matrix/metadata_samples/metadata_samples_qiita_20250319e.txt\",sep='\\t', index_col=0)\n",
    "md.index.name=\"sample_name\"\n",
    "\n",
    "# Tree\n",
    "tree_q2 = q2.Artifact.load(\"/databases/wol/wol_r2/wolr2_phylogeny.qza\")\n",
    "\n",
    "# Taxonomy\n",
    "taxonomy_q2 = q2.Metadata.load('/databases/wol/wol_r2/wolr2_taxonomy.txt')\n",
    "\n",
    "# Filter table to include samples in metadata and re-index metadata\n",
    "bt_samples = set(bt.ids(s))\n",
    "md = md[md.index.isin(bt_samples)]\n"
   ]
  },
  {
   "cell_type": "markdown",
   "metadata": {},
   "source": [
    "## Calculate distances\n"
   ]
  },
  {
   "cell_type": "code",
   "execution_count": null,
   "metadata": {},
   "outputs": [],
   "source": [
    "rarefaction_depth = 55892\n",
    "\n",
    "dms = {}\n",
    "\n",
    "# Jaccard\n",
    "dms[\"jaccard\"] = beta(table=qza_rare, metric=\"jaccard\").distance_matrix.view(DistanceMatrix)\n",
    "\n",
    "# weighted unifrac\n",
    "dms[\"weighted_unifrac\"] = beta_phylogenetic(table=qza_rare, phylogeny=tree_q2, metric=\"weighted_unifrac\").distance_matrix.view(DistanceMatrix)\n",
    "\n",
    "# unweighted unifrac\n",
    "dms[\"unweighted_unifrac\"] = beta_phylogenetic(table=qza_rare, phylogeny=tree_q2, metric=\"unweighted_unifrac\").distance_matrix.view(DistanceMatrix)\n",
    "\n",
    "# RPCA\n",
    "bplt_rpca, dm_rpca = rpca(table=qza,\n",
    "               n_components=3, \n",
    "               min_sample_count=rarefaction_depth, \n",
    "               min_feature_frequency=0)\n",
    "dms[\"RPCA\"] = dm_rpca.view(DistanceMatrix)\n",
    "\n",
    "# Phylo-RPCA\n",
    "bplt_phylo_rpca, dm_phylo_rpca, node_tree, node_counts, tree_to_taxonomy = phylogenetic_rpca_with_taxonomy(table=qza, \n",
    "                                                    phylogeny=tree_q2, \n",
    "                                                    taxonomy=taxonomy_q2, \n",
    "                                                    min_feature_count=0,\n",
    "                                                    min_feature_frequency=0,\n",
    "                                                    min_sample_count=rarefaction_depth)\n",
    "dms[\"phylo_RPCA\"] = dm_phylo_rpca.view(DistanceMatrix)\n",
    "\n"
   ]
  },
  {
   "cell_type": "markdown",
   "metadata": {},
   "source": [
    "## Generate dataframes for plotting\n"
   ]
  },
  {
   "cell_type": "code",
   "execution_count": null,
   "metadata": {},
   "outputs": [],
   "source": [
    "md_variable = md.loc[:,[\"sample_type3\",\"unique_sample_id\"]]\n",
    "out_dfs = {}\n",
    "for metric,dm in dms.items():\n",
    "    df = dm.to_data_frame()\n",
    "    df=df.reset_index().melt(id_vars=\"index\")\n",
    "    df.columns=[\"sample1\",\"sample2\",\"value\"]\n",
    "    df = df.merge(md_variable, right_index=True, left_on=\"sample1\")\n",
    "    df = df.rename(columns={\"sample_type3\":\"sample1_type\",\"unique_sample_id\":\"sample1_unique_sample_id\"})\n",
    "    df = df.merge(md_variable, right_index=True, left_on=\"sample2\")\n",
    "    df = df.rename(columns={\"sample_type3\":\"sample2_type\",\"unique_sample_id\":\"sample2_unique_sample_id\"})\n",
    "    df = df.merge(md.loc[:,[\"sample_type\",\"sample_type1\",\"sample_type2\",\"sample_type3\",\"biomass\",\"extraction_protocol_storage_solution\",\"host_subject_id\"]], right_index=True, left_on=\"sample1\")\n",
    "    df = df.query('sample1_type==sample2_type & sample1_unique_sample_id==sample2_unique_sample_id & sample1!=sample2')\n",
    "    out_dfs[metric] = df\n",
    "    "
   ]
  },
  {
   "cell_type": "markdown",
   "metadata": {},
   "source": [
    "## Export data frames\n"
   ]
  },
  {
   "cell_type": "code",
   "execution_count": null,
   "metadata": {},
   "outputs": [],
   "source": [
    "metric=\"jaccard\"\n",
    "df = out_dfs[metric]\n",
    "df = df.drop_duplicates(\"value\")\n",
    "df.to_csv(\"/matrix/results/technical_replicate_distances/matrix_tech_rep_shotgun_lbm_jaccard.txt\", sep = '\\t', index = False)\n",
    "\n",
    "metric=\"RPCA\"\n",
    "df = out_dfs[metric]\n",
    "df = df.drop_duplicates(\"value\")\n",
    "df.to_csv(\"/matrix/results/technical_replicate_distances/matrix_tech_rep_shotgun_lbm_rpca.txt\", sep = '\\t', index = False)\n",
    "\n",
    "metric=\"unweighted_unifrac\"\n",
    "df = out_dfs[metric]\n",
    "df = df.drop_duplicates(\"value\")\n",
    "df.to_csv(\"/matrix/results/technical_replicate_distances/matrix_tech_rep_shotgun_lbm_unifrac.txt\", sep = '\\t', index = False)\n",
    "\n",
    "metric=\"weighted_unifrac\"\n",
    "df = out_dfs[metric]\n",
    "df = df.drop_duplicates(\"value\")\n",
    "df.to_csv(\"/matrix/results/technical_replicate_distances/matrix_tech_rep_shotgun_lbm_weighted_unifrac.txt\", sep = '\\t', index = False)\n",
    "\n",
    "metric=\"phylo_RPCA\"\n",
    "df = out_dfs[metric]\n",
    "df = df.drop_duplicates(\"value\")\n",
    "df.to_csv(\"/matrix/results/technical_replicate_distances/matrix_tech_rep_shotgun_lbm_phylo_rpca.txt\", sep = '\\t', index = False)\n"
   ]
  },
  {
   "cell_type": "markdown",
   "metadata": {},
   "source": [
    "# Metabolomics"
   ]
  },
  {
   "cell_type": "markdown",
   "metadata": {},
   "source": [
    "## Import data"
   ]
  },
  {
   "cell_type": "code",
   "execution_count": 7,
   "metadata": {},
   "outputs": [],
   "source": [
    "# Data\n",
    "qza = q2.Artifact.load(\"/matrix/data/lcms/matrix_lcms_merged_biom_qiita_ids_noSingletons.qza\")\n",
    "bt = qza.view(Table)\n",
    "\n",
    "# Metadata\n",
    "md = pd.read_csv(\"/matrix/metadata_samples/metadata_samples_qiita_20250307.txt\",sep='\\t', index_col=0)\n",
    "md.index.name=\"sample_name\"\n",
    "\n",
    "# Filter table to include samples in metadata and re-index metadata\n",
    "bt_samples = set(bt.ids(s))\n",
    "md = md[md.index.isin(bt_samples)]\n"
   ]
  },
  {
   "cell_type": "markdown",
   "metadata": {},
   "source": [
    "## Calculate distances\n"
   ]
  },
  {
   "cell_type": "code",
   "execution_count": null,
   "metadata": {},
   "outputs": [],
   "source": [
    "dms = {}\n",
    "\n",
    "# Jaccard\n",
    "dms[\"jaccard\"] = beta(table=qza, metric=\"jaccard\").distance_matrix.view(DistanceMatrix)\n",
    "\n",
    "# Cosine\n",
    "dms[\"cosine\"] = beta(table=qza, metric=\"cosine\").distance_matrix.view(DistanceMatrix)\n",
    "\n",
    "# Canberra-Adkins\n",
    "dms[\"canberra_adkins\"] = beta(table=qza, metric=\"canberra_adkins\").distance_matrix.view(DistanceMatrix)\n",
    "\n",
    "# RPCA\n",
    "bplt_rpca, dm_rpca = rpca(table=qza,\n",
    "               n_components=3, \n",
    "               min_sample_count=0, \n",
    "               min_feature_frequency=0)\n",
    "dms[\"RPCA\"] = dm_rpca.view(DistanceMatrix)\n",
    "\n"
   ]
  },
  {
   "cell_type": "markdown",
   "metadata": {},
   "source": [
    "## Generate dataframes for plotting\n"
   ]
  },
  {
   "cell_type": "code",
   "execution_count": null,
   "metadata": {},
   "outputs": [],
   "source": [
    "md_variable = md.loc[:,[\"sample_type3\",\"unique_sample_id\"]]\n",
    "out_dfs = {}\n",
    "for metric,dm in dms.items():\n",
    "    df = dm.to_data_frame()\n",
    "    df=df.reset_index().melt(id_vars=\"index\")\n",
    "    df.columns=[\"sample1\",\"sample2\",\"value\"]\n",
    "    df = df.merge(md_variable, right_index=True, left_on=\"sample1\")\n",
    "    df = df.rename(columns={\"sample_type3\":\"sample1_type\",\"unique_sample_id\":\"sample1_unique_sample_id\"})\n",
    "    df = df.merge(md_variable, right_index=True, left_on=\"sample2\")\n",
    "    df = df.rename(columns={\"sample_type3\":\"sample2_type\",\"unique_sample_id\":\"sample2_unique_sample_id\"})\n",
    "    df = df.merge(md.loc[:,[\"sample_type\",\"sample_type1\",\"sample_type2\",\"sample_type3\",\"biomass\",\"extraction_protocol_storage_solution\",\"host_subject_id\"]], right_index=True, left_on=\"sample1\")\n",
    "    df = df.query('sample1_type==sample2_type & sample1_unique_sample_id==sample2_unique_sample_id & sample1!=sample2')\n",
    "    out_dfs[metric] = df\n",
    "    "
   ]
  },
  {
   "cell_type": "markdown",
   "metadata": {},
   "source": [
    "## Export data frames\n"
   ]
  },
  {
   "cell_type": "code",
   "execution_count": null,
   "metadata": {},
   "outputs": [],
   "source": [
    "metric=\"jaccard\"\n",
    "df = out_dfs[metric]\n",
    "df = df.drop_duplicates(\"value\")\n",
    "df.to_csv(\"/matrix/results/technical_replicate_distances/matrix_tech_rep_metab_jaccard.txt\", sep = '\\t', index = False)\n",
    "\n",
    "metric=\"RPCA\"\n",
    "df = out_dfs[metric]\n",
    "df = df.drop_duplicates(\"value\")\n",
    "df.to_csv(\"/matrix/results/technical_replicate_distances/matrix_tech_rep_metab_rpca.txt\", sep = '\\t', index = False)\n",
    "\n",
    "metric=\"cosine\"\n",
    "df = out_dfs[metric]\n",
    "df = df.drop_duplicates(\"value\")\n",
    "df.to_csv(\"/matrix/results/technical_replicate_distances/matrix_tech_rep_metab_cosine.txt\", sep = '\\t', index = False)\n",
    "\n",
    "metric=\"canberra_adkins\"\n",
    "df = out_dfs[metric]\n",
    "df = df.drop_duplicates(\"value\")\n",
    "df.to_csv(\"/matrix/results/technical_replicate_distances/matrix_tech_rep_metab_canberra_adkins.txt\", sep = '\\t', index = False)\n"
   ]
  },
  {
   "cell_type": "markdown",
   "metadata": {
    "jp-MarkdownHeadingCollapsed": true
   },
   "source": [
    "# Proceed to plotting in R"
   ]
  }
 ],
 "metadata": {
  "kernelspec": {
   "display_name": "Python (qiime2-amplicon-2024.10)",
   "language": "python",
   "name": "qiime2-amplicon-2024.10"
  },
  "language_info": {
   "codemirror_mode": {
    "name": "ipython",
    "version": 3
   },
   "file_extension": ".py",
   "mimetype": "text/x-python",
   "name": "python",
   "nbconvert_exporter": "python",
   "pygments_lexer": "ipython3",
   "version": "3.10.14"
  }
 },
 "nbformat": 4,
 "nbformat_minor": 4
}
